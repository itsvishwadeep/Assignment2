{
 "cells": [
  {
   "cell_type": "code",
   "execution_count": 1,
   "id": "42f70d27-2916-4cee-969b-813237001b46",
   "metadata": {},
   "outputs": [],
   "source": [
    "# Q 1 \n",
    "# Create 2 lists from a given list where \n",
    "# 1st list will contain all the odd numbers from the original list and\n",
    "# the 2nd one will contain all the even numbers\n",
    "# L = [1,2,3,4,5,6]"
   ]
  },
  {
   "cell_type": "code",
   "execution_count": 3,
   "id": "35db01f0-77a6-462a-b47c-2ed7bb0473b7",
   "metadata": {},
   "outputs": [
    {
     "name": "stdout",
     "output_type": "stream",
     "text": [
      " Odd numbers =  [1, 3, 5]\n",
      " Even numbers =  [2, 4, 6]\n"
     ]
    }
   ],
   "source": [
    "List = [1,2,3,4,5,6,]\n",
    "list_odd = [n for n in List if n % 2!= 0]\n",
    "list_even = [n for n in List if n%2==0]\n",
    "print(\" Odd numbers = \",list_odd)\n",
    "print(\" Even numbers = \", list_even)"
   ]
  },
  {
   "cell_type": "code",
   "execution_count": 4,
   "id": "6f6c3c70-6463-48dd-8ecd-744d01ab3cab",
   "metadata": {},
   "outputs": [],
   "source": [
    "# Q2\n",
    "# How to take list as input from user"
   ]
  },
  {
   "cell_type": "code",
   "execution_count": 2,
   "id": "cdf635c5-11aa-45f4-aaa5-2e65c4b106ff",
   "metadata": {},
   "outputs": [
    {
     "name": "stdin",
     "output_type": "stream",
     "text": [
      "Enter an element (or any non-integer value to stop):  f\n"
     ]
    },
    {
     "name": "stdout",
     "output_type": "stream",
     "text": [
      "Your list: []\n"
     ]
    }
   ],
   "source": [
    "list2 = []\n",
    "while True:\n",
    "    try:\n",
    "        element = int(input(\"Enter an element (or any non-integer value to stop): \"))\n",
    "        list2.append(element)\n",
    "    except ValueError:\n",
    "        break\n",
    "print(\"Your list:\", list2)\n",
    "            "
   ]
  },
  {
   "cell_type": "code",
   "execution_count": null,
   "id": "c937e6f4-6d54-44ac-8949-0054e8fc860c",
   "metadata": {},
   "outputs": [],
   "source": [
    "# Q 3 \n",
    "# Write a program to merge 2 list without using the + operator\n",
    "# L1 = [1,2,3,4]\n",
    "# L2 = [5,6,7,8]"
   ]
  },
  {
   "cell_type": "code",
   "execution_count": 5,
   "id": "a861b56f-c746-46a2-8982-8ea428c3eeac",
   "metadata": {},
   "outputs": [
    {
     "name": "stdout",
     "output_type": "stream",
     "text": [
      "[1, 2, 3, 4, 5, 6, 7, 8]\n"
     ]
    }
   ],
   "source": [
    "list3 = [1,2,3,4]\n",
    "list4 = [5,6,7,8]\n",
    "list_concat = [*list3,*list4]\n",
    "print(list_concat)"
   ]
  },
  {
   "cell_type": "code",
   "execution_count": 6,
   "id": "f69781e5-0d3f-4751-a3b3-6dd5433df6ab",
   "metadata": {},
   "outputs": [],
   "source": [
    "# Q 4\n",
    "# Write a program to replace an item with a different item if found in the list \n",
    "# L = [1,2,3,4,5,3]\n",
    "# replace 3 with 300"
   ]
  },
  {
   "cell_type": "code",
   "execution_count": 9,
   "id": "0b51690b-c6a1-4b3d-8fae-f9915dd181d1",
   "metadata": {},
   "outputs": [
    {
     "name": "stdout",
     "output_type": "stream",
     "text": [
      "[1, 2, 300, 4, 5, 6]\n"
     ]
    }
   ],
   "source": [
    "list5 = [1,2,3,4,5,6]\n",
    "list_append = [ 300 if item == 3 else item for item in list5]\n",
    "print(list_append)"
   ]
  },
  {
   "cell_type": "code",
   "execution_count": 10,
   "id": "df390b40-9b93-40a1-956b-c4897fe184e8",
   "metadata": {},
   "outputs": [],
   "source": [
    "# Q 5 \n",
    "# Write a program that can convert a 2D list to 1D list"
   ]
  },
  {
   "cell_type": "code",
   "execution_count": 14,
   "id": "09d19941-a29b-4552-a91b-ff6e5a8504b9",
   "metadata": {},
   "outputs": [
    {
     "name": "stdout",
     "output_type": "stream",
     "text": [
      "[1, 2, 3, 4, 5, 6]\n"
     ]
    }
   ],
   "source": [
    "two_Dlist = [[1,2,3],[4,5,6]]\n",
    "one_Dlist = [ item for sublist in two_Dlist for item in sublist]\n",
    "print(one_Dlist)"
   ]
  },
  {
   "cell_type": "code",
   "execution_count": 15,
   "id": "865fe9ca-511d-4dcc-b604-7cc5041202c1",
   "metadata": {},
   "outputs": [],
   "source": [
    "# Write a program to remove duplicate items from a list\n",
    "# L = [1,2,1,2,3,4,5,3,4]"
   ]
  },
  {
   "cell_type": "code",
   "execution_count": 19,
   "id": "5fb14b80-89ce-471b-b4d9-8dab90d521b2",
   "metadata": {},
   "outputs": [
    {
     "name": "stdout",
     "output_type": "stream",
     "text": [
      "[{1, 2, 3, 4, 5}]\n"
     ]
    }
   ],
   "source": [
    "list6 = [1,2,1,2,3,4,5,3,4,]\n",
    "updated_list= [set(list6)]\n",
    "print(updated_list)"
   ]
  },
  {
   "cell_type": "code",
   "execution_count": 20,
   "id": "e308e605-97cc-4566-8291-a47e32a452c2",
   "metadata": {},
   "outputs": [],
   "source": [
    "# Q 7 \n",
    "# Write a program to check if a list is in ascending order or not"
   ]
  },
  {
   "cell_type": "code",
   "execution_count": 24,
   "id": "3abcfeb5-9fd9-4a7d-b052-311463c84cef",
   "metadata": {},
   "outputs": [
    {
     "name": "stdout",
     "output_type": "stream",
     "text": [
      "The list is sorted in ascending order\n"
     ]
    }
   ],
   "source": [
    "list7 = [12,24,36,48,60]\n",
    "def is_sorted(list):\n",
    "    return all(list[index] <= list[index + 1] for index in range(len(list)-1))\n",
    "\n",
    "if is_sorted(list7):\n",
    "    print(\"The list is sorted in ascending order\")\n",
    "else:\n",
    "    print(\"The list is not sorted in ascending order \")\n"
   ]
  },
  {
   "cell_type": "code",
   "execution_count": null,
   "id": "205651eb-cdc8-4b95-a997-dd5519dad67b",
   "metadata": {},
   "outputs": [],
   "source": []
  }
 ],
 "metadata": {
  "kernelspec": {
   "display_name": "Python 3 (ipykernel)",
   "language": "python",
   "name": "python3"
  },
  "language_info": {
   "codemirror_mode": {
    "name": "ipython",
    "version": 3
   },
   "file_extension": ".py",
   "mimetype": "text/x-python",
   "name": "python",
   "nbconvert_exporter": "python",
   "pygments_lexer": "ipython3",
   "version": "3.11.7"
  }
 },
 "nbformat": 4,
 "nbformat_minor": 5
}
